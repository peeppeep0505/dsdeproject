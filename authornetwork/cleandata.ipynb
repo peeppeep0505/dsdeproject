{
 "cells": [
  {
   "cell_type": "code",
   "execution_count": 171,
   "metadata": {},
   "outputs": [],
   "source": [
    "import pandas as pd\n",
    "\n",
    "df = pd.read_csv('final2023.csv')"
   ]
  },
  {
   "cell_type": "code",
   "execution_count": 172,
   "metadata": {},
   "outputs": [
    {
     "data": {
      "text/html": [
       "<div>\n",
       "<style scoped>\n",
       "    .dataframe tbody tr th:only-of-type {\n",
       "        vertical-align: middle;\n",
       "    }\n",
       "\n",
       "    .dataframe tbody tr th {\n",
       "        vertical-align: top;\n",
       "    }\n",
       "\n",
       "    .dataframe thead th {\n",
       "        text-align: right;\n",
       "    }\n",
       "</style>\n",
       "<table border=\"1\" class=\"dataframe\">\n",
       "  <thead>\n",
       "    <tr style=\"text-align: right;\">\n",
       "      <th></th>\n",
       "      <th>Unnamed: 0</th>\n",
       "      <th>title</th>\n",
       "      <th>authors</th>\n",
       "      <th>affiliations</th>\n",
       "      <th>citedby</th>\n",
       "      <th>mainterms</th>\n",
       "      <th>subject_areas</th>\n",
       "      <th>publisher</th>\n",
       "      <th>Year</th>\n",
       "    </tr>\n",
       "  </thead>\n",
       "  <tbody>\n",
       "    <tr>\n",
       "      <th>0</th>\n",
       "      <td>0</td>\n",
       "      <td>Graphene oxide-alginate hydrogel-based indicat...</td>\n",
       "      <td>['Boobphahom S.', 'Rodthongkum N.']</td>\n",
       "      <td>['Metallurgy and Materials Research Institute ...</td>\n",
       "      <td>0.0</td>\n",
       "      <td>['Alginate hydrogels', 'Alzheimers disease', '...</td>\n",
       "      <td>['Structural Biology', 'Biochemistry', 'Molecu...</td>\n",
       "      <td>Elsevier B.V.</td>\n",
       "      <td>2023</td>\n",
       "    </tr>\n",
       "    <tr>\n",
       "      <th>1</th>\n",
       "      <td>1</td>\n",
       "      <td>Rare coordination behavior of triethanolamine ...</td>\n",
       "      <td>['Chauhan C.', 'Kumar R.', 'Saini A.', 'Kumar ...</td>\n",
       "      <td>['Institute of Nano Science and Technology, Mo...</td>\n",
       "      <td>0.0</td>\n",
       "      <td>['Coordination behavior', 'Coordination comple...</td>\n",
       "      <td>['Analytical Chemistry', 'Spectroscopy', 'Orga...</td>\n",
       "      <td>Elsevier B.V.</td>\n",
       "      <td>2023</td>\n",
       "    </tr>\n",
       "    <tr>\n",
       "      <th>2</th>\n",
       "      <td>2</td>\n",
       "      <td>Total ammonia nitrogen removal and microbial c...</td>\n",
       "      <td>['Satanwat P.', 'Tapaneeyaworawong P.', 'Wechp...</td>\n",
       "      <td>['Chulalongkorn University', 'Mahidol Universi...</td>\n",
       "      <td>0.0</td>\n",
       "      <td>[]</td>\n",
       "      <td>['Aquatic Science']</td>\n",
       "      <td>Elsevier B.V.</td>\n",
       "      <td>2023</td>\n",
       "    </tr>\n",
       "    <tr>\n",
       "      <th>3</th>\n",
       "      <td>3</td>\n",
       "      <td>Effects of microaeration and sludge recirculat...</td>\n",
       "      <td>['Buakaew T.', 'Ratanatamskul C.']</td>\n",
       "      <td>['Chulalongkorn University']</td>\n",
       "      <td>0.0</td>\n",
       "      <td>['Anaerobics', 'Anerobic baffled biofilm–MBR',...</td>\n",
       "      <td>['Environmental Engineering', 'Environmental C...</td>\n",
       "      <td>Elsevier B.V.</td>\n",
       "      <td>2023</td>\n",
       "    </tr>\n",
       "    <tr>\n",
       "      <th>4</th>\n",
       "      <td>4</td>\n",
       "      <td>Bioaccumulation of heavy metals in commerciall...</td>\n",
       "      <td>['Patchaiyappan A.', 'Arulkumar A.', 'Shynshia...</td>\n",
       "      <td>['Pondicherry University', 'Cochin University ...</td>\n",
       "      <td>0.0</td>\n",
       "      <td>[]</td>\n",
       "      <td>['Ecology, Evolution, Behavior and Systematics...</td>\n",
       "      <td>Elsevier B.V.</td>\n",
       "      <td>2023</td>\n",
       "    </tr>\n",
       "  </tbody>\n",
       "</table>\n",
       "</div>"
      ],
      "text/plain": [
       "   Unnamed: 0                                              title  \\\n",
       "0           0  Graphene oxide-alginate hydrogel-based indicat...   \n",
       "1           1  Rare coordination behavior of triethanolamine ...   \n",
       "2           2  Total ammonia nitrogen removal and microbial c...   \n",
       "3           3  Effects of microaeration and sludge recirculat...   \n",
       "4           4  Bioaccumulation of heavy metals in commerciall...   \n",
       "\n",
       "                                             authors  \\\n",
       "0                ['Boobphahom S.', 'Rodthongkum N.']   \n",
       "1  ['Chauhan C.', 'Kumar R.', 'Saini A.', 'Kumar ...   \n",
       "2  ['Satanwat P.', 'Tapaneeyaworawong P.', 'Wechp...   \n",
       "3                 ['Buakaew T.', 'Ratanatamskul C.']   \n",
       "4  ['Patchaiyappan A.', 'Arulkumar A.', 'Shynshia...   \n",
       "\n",
       "                                        affiliations  citedby  \\\n",
       "0  ['Metallurgy and Materials Research Institute ...      0.0   \n",
       "1  ['Institute of Nano Science and Technology, Mo...      0.0   \n",
       "2  ['Chulalongkorn University', 'Mahidol Universi...      0.0   \n",
       "3                       ['Chulalongkorn University']      0.0   \n",
       "4  ['Pondicherry University', 'Cochin University ...      0.0   \n",
       "\n",
       "                                           mainterms  \\\n",
       "0  ['Alginate hydrogels', 'Alzheimers disease', '...   \n",
       "1  ['Coordination behavior', 'Coordination comple...   \n",
       "2                                                 []   \n",
       "3  ['Anaerobics', 'Anerobic baffled biofilm–MBR',...   \n",
       "4                                                 []   \n",
       "\n",
       "                                       subject_areas      publisher  Year  \n",
       "0  ['Structural Biology', 'Biochemistry', 'Molecu...  Elsevier B.V.  2023  \n",
       "1  ['Analytical Chemistry', 'Spectroscopy', 'Orga...  Elsevier B.V.  2023  \n",
       "2                                ['Aquatic Science']  Elsevier B.V.  2023  \n",
       "3  ['Environmental Engineering', 'Environmental C...  Elsevier B.V.  2023  \n",
       "4  ['Ecology, Evolution, Behavior and Systematics...  Elsevier B.V.  2023  "
      ]
     },
     "execution_count": 172,
     "metadata": {},
     "output_type": "execute_result"
    }
   ],
   "source": [
    "df.head()"
   ]
  },
  {
   "cell_type": "code",
   "execution_count": 173,
   "metadata": {},
   "outputs": [
    {
     "name": "stderr",
     "output_type": "stream",
     "text": [
      "C:\\Users\\aungaing\\AppData\\Local\\Temp\\ipykernel_28188\\3909710234.py:2: SettingWithCopyWarning: \n",
      "A value is trying to be set on a copy of a slice from a DataFrame.\n",
      "Try using .loc[row_indexer,col_indexer] = value instead\n",
      "\n",
      "See the caveats in the documentation: https://pandas.pydata.org/pandas-docs/stable/user_guide/indexing.html#returning-a-view-versus-a-copy\n",
      "  selectdf['citedby'] = df['citedby']\n"
     ]
    },
    {
     "data": {
      "text/html": [
       "<div>\n",
       "<style scoped>\n",
       "    .dataframe tbody tr th:only-of-type {\n",
       "        vertical-align: middle;\n",
       "    }\n",
       "\n",
       "    .dataframe tbody tr th {\n",
       "        vertical-align: top;\n",
       "    }\n",
       "\n",
       "    .dataframe thead th {\n",
       "        text-align: right;\n",
       "    }\n",
       "</style>\n",
       "<table border=\"1\" class=\"dataframe\">\n",
       "  <thead>\n",
       "    <tr style=\"text-align: right;\">\n",
       "      <th></th>\n",
       "      <th>authors</th>\n",
       "      <th>citedby</th>\n",
       "    </tr>\n",
       "  </thead>\n",
       "  <tbody>\n",
       "    <tr>\n",
       "      <th>0</th>\n",
       "      <td>['Boobphahom S.', 'Rodthongkum N.']</td>\n",
       "      <td>0.0</td>\n",
       "    </tr>\n",
       "    <tr>\n",
       "      <th>1</th>\n",
       "      <td>['Chauhan C.', 'Kumar R.', 'Saini A.', 'Kumar ...</td>\n",
       "      <td>0.0</td>\n",
       "    </tr>\n",
       "    <tr>\n",
       "      <th>2</th>\n",
       "      <td>['Satanwat P.', 'Tapaneeyaworawong P.', 'Wechp...</td>\n",
       "      <td>0.0</td>\n",
       "    </tr>\n",
       "    <tr>\n",
       "      <th>3</th>\n",
       "      <td>['Buakaew T.', 'Ratanatamskul C.']</td>\n",
       "      <td>0.0</td>\n",
       "    </tr>\n",
       "    <tr>\n",
       "      <th>4</th>\n",
       "      <td>['Patchaiyappan A.', 'Arulkumar A.', 'Shynshia...</td>\n",
       "      <td>0.0</td>\n",
       "    </tr>\n",
       "  </tbody>\n",
       "</table>\n",
       "</div>"
      ],
      "text/plain": [
       "                                             authors  citedby\n",
       "0                ['Boobphahom S.', 'Rodthongkum N.']      0.0\n",
       "1  ['Chauhan C.', 'Kumar R.', 'Saini A.', 'Kumar ...      0.0\n",
       "2  ['Satanwat P.', 'Tapaneeyaworawong P.', 'Wechp...      0.0\n",
       "3                 ['Buakaew T.', 'Ratanatamskul C.']      0.0\n",
       "4  ['Patchaiyappan A.', 'Arulkumar A.', 'Shynshia...      0.0"
      ]
     },
     "execution_count": 173,
     "metadata": {},
     "output_type": "execute_result"
    }
   ],
   "source": [
    "selectdf = df[['authors']]  # เลือกเป็น DataFrame\n",
    "selectdf['citedby'] = df['citedby']\n",
    "selectdf.head()"
   ]
  },
  {
   "cell_type": "code",
   "execution_count": 174,
   "metadata": {},
   "outputs": [
    {
     "name": "stdout",
     "output_type": "stream",
     "text": [
      "<class 'pandas.core.frame.DataFrame'>\n",
      "RangeIndex: 2890 entries, 0 to 2889\n",
      "Data columns (total 2 columns):\n",
      " #   Column   Non-Null Count  Dtype  \n",
      "---  ------   --------------  -----  \n",
      " 0   authors  2890 non-null   object \n",
      " 1   citedby  2888 non-null   float64\n",
      "dtypes: float64(1), object(1)\n",
      "memory usage: 45.3+ KB\n"
     ]
    }
   ],
   "source": [
    "selectdf.info()"
   ]
  },
  {
   "cell_type": "code",
   "execution_count": 175,
   "metadata": {},
   "outputs": [],
   "source": [
    "import ast"
   ]
  },
  {
   "cell_type": "code",
   "execution_count": 176,
   "metadata": {},
   "outputs": [
    {
     "name": "stderr",
     "output_type": "stream",
     "text": [
      "C:\\Users\\aungaing\\AppData\\Local\\Temp\\ipykernel_28188\\314487344.py:1: SettingWithCopyWarning: \n",
      "A value is trying to be set on a copy of a slice from a DataFrame.\n",
      "Try using .loc[row_indexer,col_indexer] = value instead\n",
      "\n",
      "See the caveats in the documentation: https://pandas.pydata.org/pandas-docs/stable/user_guide/indexing.html#returning-a-view-versus-a-copy\n",
      "  selectdf['authors'] = selectdf['authors'].apply(ast.literal_eval)\n"
     ]
    }
   ],
   "source": [
    "selectdf['authors'] = selectdf['authors'].apply(ast.literal_eval)"
   ]
  },
  {
   "cell_type": "code",
   "execution_count": 177,
   "metadata": {},
   "outputs": [
    {
     "name": "stderr",
     "output_type": "stream",
     "text": [
      "C:\\Users\\aungaing\\AppData\\Local\\Temp\\ipykernel_28188\\3167488675.py:1: SettingWithCopyWarning: \n",
      "A value is trying to be set on a copy of a slice from a DataFrame.\n",
      "Try using .loc[row_indexer,col_indexer] = value instead\n",
      "\n",
      "See the caveats in the documentation: https://pandas.pydata.org/pandas-docs/stable/user_guide/indexing.html#returning-a-view-versus-a-copy\n",
      "  selectdf['author_count'] = selectdf['authors'].apply(len)\n"
     ]
    }
   ],
   "source": [
    "selectdf['author_count'] = selectdf['authors'].apply(len)\n",
    "Q1 = selectdf['author_count'].quantile(0.25)\n",
    "Q3 = selectdf['author_count'].quantile(0.75)\n",
    "IQR = Q3 - Q1\n",
    "\n",
    "# 3. คำนวณช่วงที่ไม่ถือว่าเป็น Outlier\n",
    "lower_bound = Q1 - 1.5 * IQR\n",
    "upper_bound = Q3 + 1.5 * IQR\n",
    "\n",
    "# 4. ลบแถวที่มีจำนวนผู้เขียนเป็น Outlier\n",
    "filtered_df = selectdf[\n",
    "    (selectdf['author_count'] >= lower_bound) & \n",
    "    (selectdf['author_count'] <= upper_bound)\n",
    "]"
   ]
  },
  {
   "cell_type": "code",
   "execution_count": 178,
   "metadata": {},
   "outputs": [
    {
     "name": "stdout",
     "output_type": "stream",
     "text": [
      "<class 'pandas.core.frame.DataFrame'>\n",
      "RangeIndex: 2890 entries, 0 to 2889\n",
      "Data columns (total 3 columns):\n",
      " #   Column        Non-Null Count  Dtype  \n",
      "---  ------        --------------  -----  \n",
      " 0   authors       2890 non-null   object \n",
      " 1   citedby       2888 non-null   float64\n",
      " 2   author_count  2890 non-null   int64  \n",
      "dtypes: float64(1), int64(1), object(1)\n",
      "memory usage: 67.9+ KB\n"
     ]
    }
   ],
   "source": [
    "selectdf.info()"
   ]
  },
  {
   "cell_type": "code",
   "execution_count": 179,
   "metadata": {},
   "outputs": [],
   "source": [
    "filtered_df = filtered_df.dropna(subset=['citedby', 'authors'])"
   ]
  },
  {
   "cell_type": "code",
   "execution_count": 180,
   "metadata": {},
   "outputs": [
    {
     "name": "stdout",
     "output_type": "stream",
     "text": [
      "<class 'pandas.core.frame.DataFrame'>\n",
      "Index: 2712 entries, 0 to 2889\n",
      "Data columns (total 3 columns):\n",
      " #   Column        Non-Null Count  Dtype  \n",
      "---  ------        --------------  -----  \n",
      " 0   authors       2712 non-null   object \n",
      " 1   citedby       2712 non-null   float64\n",
      " 2   author_count  2712 non-null   int64  \n",
      "dtypes: float64(1), int64(1), object(1)\n",
      "memory usage: 84.8+ KB\n"
     ]
    }
   ],
   "source": [
    "filtered_df.info()"
   ]
  },
  {
   "cell_type": "code",
   "execution_count": 181,
   "metadata": {},
   "outputs": [
    {
     "data": {
      "text/html": [
       "<div>\n",
       "<style scoped>\n",
       "    .dataframe tbody tr th:only-of-type {\n",
       "        vertical-align: middle;\n",
       "    }\n",
       "\n",
       "    .dataframe tbody tr th {\n",
       "        vertical-align: top;\n",
       "    }\n",
       "\n",
       "    .dataframe thead th {\n",
       "        text-align: right;\n",
       "    }\n",
       "</style>\n",
       "<table border=\"1\" class=\"dataframe\">\n",
       "  <thead>\n",
       "    <tr style=\"text-align: right;\">\n",
       "      <th></th>\n",
       "      <th>authors</th>\n",
       "      <th>citedby</th>\n",
       "      <th>author_count</th>\n",
       "    </tr>\n",
       "  </thead>\n",
       "  <tbody>\n",
       "    <tr>\n",
       "      <th>0</th>\n",
       "      <td>[Boobphahom S., Rodthongkum N.]</td>\n",
       "      <td>0.0</td>\n",
       "      <td>2</td>\n",
       "    </tr>\n",
       "    <tr>\n",
       "      <th>1</th>\n",
       "      <td>[Chauhan C., Kumar R., Saini A., Kumar R., Kum...</td>\n",
       "      <td>0.0</td>\n",
       "      <td>7</td>\n",
       "    </tr>\n",
       "    <tr>\n",
       "      <th>2</th>\n",
       "      <td>[Satanwat P., Tapaneeyaworawong P., Wechprasit...</td>\n",
       "      <td>0.0</td>\n",
       "      <td>8</td>\n",
       "    </tr>\n",
       "    <tr>\n",
       "      <th>3</th>\n",
       "      <td>[Buakaew T., Ratanatamskul C.]</td>\n",
       "      <td>0.0</td>\n",
       "      <td>2</td>\n",
       "    </tr>\n",
       "    <tr>\n",
       "      <th>4</th>\n",
       "      <td>[Patchaiyappan A., Arulkumar A., Shynshiang K....</td>\n",
       "      <td>0.0</td>\n",
       "      <td>8</td>\n",
       "    </tr>\n",
       "  </tbody>\n",
       "</table>\n",
       "</div>"
      ],
      "text/plain": [
       "                                             authors  citedby  author_count\n",
       "0                    [Boobphahom S., Rodthongkum N.]      0.0             2\n",
       "1  [Chauhan C., Kumar R., Saini A., Kumar R., Kum...      0.0             7\n",
       "2  [Satanwat P., Tapaneeyaworawong P., Wechprasit...      0.0             8\n",
       "3                     [Buakaew T., Ratanatamskul C.]      0.0             2\n",
       "4  [Patchaiyappan A., Arulkumar A., Shynshiang K....      0.0             8"
      ]
     },
     "execution_count": 181,
     "metadata": {},
     "output_type": "execute_result"
    }
   ],
   "source": [
    "filtered_df.head()"
   ]
  },
  {
   "cell_type": "code",
   "execution_count": 182,
   "metadata": {},
   "outputs": [
    {
     "name": "stdout",
     "output_type": "stream",
     "text": [
      "max author count: 15\n"
     ]
    }
   ],
   "source": [
    "max_author_count = filtered_df['author_count'].max()\n",
    "print(f\"max author count: {max_author_count}\")\n"
   ]
  },
  {
   "cell_type": "code",
   "execution_count": 183,
   "metadata": {},
   "outputs": [],
   "source": [
    "filtered_df.to_csv('2023authornet.csv', index=False)"
   ]
  }
 ],
 "metadata": {
  "kernelspec": {
   "display_name": "base",
   "language": "python",
   "name": "python3"
  },
  "language_info": {
   "codemirror_mode": {
    "name": "ipython",
    "version": 3
   },
   "file_extension": ".py",
   "mimetype": "text/x-python",
   "name": "python",
   "nbconvert_exporter": "python",
   "pygments_lexer": "ipython3",
   "version": "3.12.4"
  }
 },
 "nbformat": 4,
 "nbformat_minor": 2
}
