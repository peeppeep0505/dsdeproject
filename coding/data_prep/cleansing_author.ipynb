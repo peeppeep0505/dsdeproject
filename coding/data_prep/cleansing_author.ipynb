{
  "cells": [
    {
      "cell_type": "code",
      "execution_count": 1,
      "metadata": {
        "id": "DjAkFncg-J3Z"
      },
      "outputs": [],
      "source": [
        "try:\n",
        "  import google.colab\n",
        "  IN_COLAB = True\n",
        "except:\n",
        "  IN_COLAB = False"
      ]
    },
    {
      "cell_type": "code",
      "execution_count": 2,
      "metadata": {
        "id": "HONtv9Ka-UHp"
      },
      "outputs": [],
      "source": [
        "if IN_COLAB:\n",
        "    !apt-get install openjdk-8-jdk-headless -qq > /dev/null\n",
        "    !wget -q https://archive.apache.org/dist/spark/spark-3.3.2/spark-3.3.2-bin-hadoop3.tgz\n",
        "    !tar xf spark-3.3.2-bin-hadoop3.tgz\n",
        "    !mv spark-3.3.2-bin-hadoop3 spark\n",
        "    !pip install -q findspark\n",
        "    import os\n",
        "    os.environ[\"JAVA_HOME\"] = \"/usr/lib/jvm/java-8-openjdk-amd64\"\n",
        "    os.environ[\"SPARK_HOME\"] = \"/content/spark\""
      ]
    },
    {
      "cell_type": "code",
      "execution_count": 3,
      "metadata": {
        "id": "KdRmbue7-VsF"
      },
      "outputs": [],
      "source": [
        "import findspark\n",
        "findspark.init()"
      ]
    },
    {
      "cell_type": "code",
      "execution_count": 4,
      "metadata": {
        "id": "-wWd1Pjn-Vmy"
      },
      "outputs": [],
      "source": [
        "spark_url = 'local'"
      ]
    },
    {
      "cell_type": "code",
      "execution_count": 5,
      "metadata": {
        "id": "DTRBfWOI-XPK"
      },
      "outputs": [],
      "source": [
        "from pyspark.sql import SparkSession\n",
        "from itertools import combinations\n",
        "from pyspark.sql import Row\n",
        "from pyspark.sql.functions import col, from_json, expr, explode, struct, count\n",
        "from pyspark.sql.types import ArrayType, StringType\n",
        "import csv"
      ]
    },
    {
      "cell_type": "code",
      "execution_count": 6,
      "metadata": {
        "id": "7kPeHKPy-WtM"
      },
      "outputs": [],
      "source": [
        "spark = SparkSession.builder\\\n",
        "        .master(spark_url)\\\n",
        "        .appName('Spark SQL')\\\n",
        "        .getOrCreate()"
      ]
    },
    {
      "cell_type": "code",
      "execution_count": 7,
      "metadata": {
        "id": "uwsJbTNoMRQQ"
      },
      "outputs": [],
      "source": [
        "path = 'final2023.csv'\n",
        "df = spark.read.csv(path, header=True, inferSchema=True)"
      ]
    },
    {
      "cell_type": "code",
      "execution_count": 22,
      "metadata": {
        "colab": {
          "base_uri": "https://localhost:8080/"
        },
        "id": "IQF154SjMRQQ",
        "outputId": "7b49f6ae-f8a4-4645-eb0d-9e4e3a345d96"
      },
      "outputs": [
        {
          "output_type": "stream",
          "name": "stdout",
          "text": [
            "+---+--------------------+--------------------+--------------------+-------+--------------------+--------------------+-------------+----+\n",
            "|_c0|               title|             authors|        affiliations|citedby|           mainterms|       subject_areas|    publisher|Year|\n",
            "+---+--------------------+--------------------+--------------------+-------+--------------------+--------------------+-------------+----+\n",
            "|  0|Graphene oxide-al...|['Boobphahom S.',...|['Metallurgy and ...|    0.0|['Alginate hydrog...|['Structural Biol...|Elsevier B.V.|2023|\n",
            "|  1|Rare coordination...|['Chauhan C.', 'K...|['Institute of Na...|    0.0|['Coordination be...|['Analytical Chem...|Elsevier B.V.|2023|\n",
            "|  2|Total ammonia nit...|['Satanwat P.', '...|['Chulalongkorn U...|    0.0|                  []| ['Aquatic Science']|Elsevier B.V.|2023|\n",
            "|  3|Effects of microa...|['Buakaew T.', 'R...|['Chulalongkorn U...|    0.0|['Anaerobics', 'A...|['Environmental E...|Elsevier B.V.|2023|\n",
            "|  4|Bioaccumulation o...|['Patchaiyappan A...|['Pondicherry Uni...|    0.0|                  []|['Ecology, Evolut...|Elsevier B.V.|2023|\n",
            "+---+--------------------+--------------------+--------------------+-------+--------------------+--------------------+-------------+----+\n",
            "only showing top 5 rows\n",
            "\n"
          ]
        }
      ],
      "source": [
        "df.show(5)"
      ]
    },
    {
      "cell_type": "code",
      "execution_count": 48,
      "metadata": {
        "id": "M8MtLdLpMRQQ"
      },
      "outputs": [],
      "source": [
        "from pyspark.sql.functions import expr, size, split, regexp_replace\n",
        "import ast\n",
        "\n",
        "selected_df = df.select('authors', 'citedby')\n",
        "selected_df = selected_df.withColumn(\"authors\", split(regexp_replace(selected_df[\"authors\"], \"[\\\\[\\\\]]\", \"\"), \",\"))\n",
        "selected_df = selected_df.withColumn(\"authors\", expr(\"array_union(authors, ARRAY())\"))\n",
        "selected_df = selected_df.withColumn(\"authors\", expr(\"transform(authors, x -> trim(x))\"))\n",
        "\n",
        "selected_df = selected_df.withColumn(\"author_count\", size(selected_df['authors']))\n",
        "Q1, Q3 = selected_df.approxQuantile(\"author_count\", [0.25, 0.75], 0.0)\n",
        "IQR = Q3 - Q1\n",
        "lower_bound = Q1 - 1.5 * IQR\n",
        "upper_bound = Q3 + 1.5 * IQR\n",
        "\n",
        "filtered_df = selected_df.filter(\n",
        "    (selected_df['author_count'] >= lower_bound) &\n",
        "    (selected_df['author_count'] <= upper_bound)\n",
        ")"
      ]
    },
    {
      "cell_type": "code",
      "source": [
        "filtered_df.show()"
      ],
      "metadata": {
        "colab": {
          "base_uri": "https://localhost:8080/"
        },
        "id": "a9UMBuFUNJ5Z",
        "outputId": "156d0657-df04-43bc-a7b3-bc0c09cb3b7c"
      },
      "execution_count": 49,
      "outputs": [
        {
          "output_type": "stream",
          "name": "stdout",
          "text": [
            "+--------------------+-------+------------+\n",
            "|             authors|citedby|author_count|\n",
            "+--------------------+-------+------------+\n",
            "|['Boobphahom S.',...|    0.0|           2|\n",
            "|['Chauhan C.', 'K...|    0.0|           6|\n",
            "|['Satanwat P.', '...|    0.0|           8|\n",
            "|['Buakaew T.', 'R...|    0.0|           2|\n",
            "|['Patchaiyappan A...|    0.0|           8|\n",
            "|['Urumarudappa S....|    0.0|           4|\n",
            "|['Jantorn P.', 'T...|    0.0|           6|\n",
            "|['Pinit S.', 'Ari...|    0.0|           3|\n",
            "|['Thanayutsiri T....|    0.0|           5|\n",
            "|['Langsiri N.', '...|    0.0|           8|\n",
            "|['Taecharungroj V...|    0.0|           2|\n",
            "|['Rujiraprasert P...|    0.0|           9|\n",
            "|['Vimon S.', 'Ker...|    0.0|           5|\n",
            "|['Wongvitvichot W...|    0.0|           4|\n",
            "|['Vongseenin S.',...|    0.0|           4|\n",
            "|['Khamnil Y.', 'K...|    0.0|           3|\n",
            "|['Chuaypen N.', '...|    0.0|           6|\n",
            "|['Cheunwisat P.',...|    0.0|           8|\n",
            "|['Pinsorn P.', 'S...|    0.0|          13|\n",
            "|['Thamnium S.', '...|    0.0|           7|\n",
            "+--------------------+-------+------------+\n",
            "only showing top 20 rows\n",
            "\n"
          ]
        }
      ]
    },
    {
      "cell_type": "code",
      "execution_count": 50,
      "metadata": {
        "id": "K-C1UNFWZrn5"
      },
      "outputs": [],
      "source": [
        "filtered_df = filtered_df.withColumn(\"citedby\", filtered_df[\"citedby\"].cast(\"int\"))\n",
        "cleaned_df = filtered_df[filtered_df['citedby'] > 1]"
      ]
    },
    {
      "cell_type": "code",
      "source": [
        "cleaned_df.show()"
      ],
      "metadata": {
        "colab": {
          "base_uri": "https://localhost:8080/"
        },
        "id": "wsNUH23oOtmF",
        "outputId": "8a0356c0-cfdb-4b65-f3b3-822d2b8f3197"
      },
      "execution_count": 56,
      "outputs": [
        {
          "output_type": "stream",
          "name": "stdout",
          "text": [
            "+--------------------+-------+------------+\n",
            "|             authors|citedby|author_count|\n",
            "+--------------------+-------+------------+\n",
            "|['Sereewatthanawu...|      4|           4|\n",
            "|['Mahardawi B.', ...|      2|           7|\n",
            "|['Umpreecha C.', ...|      2|           4|\n",
            "|['Wahyuni D.K.', ...|      2|           8|\n",
            "|['Nim B.', 'Rahay...|      2|           9|\n",
            "|['Iksen I.', 'Wit...|      3|           8|\n",
            "|['Jatuyosporn T.'...|      2|           8|\n",
            "|['Wattanathamsan ...|      3|           8|\n",
            "|['Khantibongse P....|      2|           2|\n",
            "|['Nguyen A.H.L.',...|      2|           6|\n",
            "|['Prasittisopin L...|      2|           3|\n",
            "|['Xiao S.', 'Jian...|      3|           9|\n",
            "|['Phumchusri N.',...|      2|           4|\n",
            "|['Kingkaew E.', '...|      2|           4|\n",
            "|['Jungtanasomboon...|      3|          10|\n",
            "|['Hong-in P.', 'K...|      2|           6|\n",
            "|['Songkram N.', '...|      2|           5|\n",
            "|['Srikhao N.', 'O...|      5|           9|\n",
            "|['Tanthanongsakku...|      2|           4|\n",
            "|['Thwe Win T.', '...|      2|           5|\n",
            "+--------------------+-------+------------+\n",
            "only showing top 20 rows\n",
            "\n"
          ]
        }
      ]
    },
    {
      "cell_type": "code",
      "execution_count": 57,
      "metadata": {
        "colab": {
          "base_uri": "https://localhost:8080/"
        },
        "id": "SFEa36aw_CKB",
        "outputId": "90bc1772-bc7f-45db-9b52-bb7785c2a03f"
      },
      "outputs": [
        {
          "output_type": "execute_result",
          "data": {
            "text/plain": [
              "344"
            ]
          },
          "metadata": {},
          "execution_count": 57
        }
      ],
      "source": [
        "cleaned_df.count()"
      ]
    },
    {
      "cell_type": "code",
      "execution_count": 59,
      "metadata": {
        "colab": {
          "base_uri": "https://localhost:8080/"
        },
        "id": "1ptvbi6RGYEa",
        "outputId": "1b2f8199-6e11-4d70-b832-4bee187cdb6f"
      },
      "outputs": [
        {
          "output_type": "stream",
          "name": "stdout",
          "text": [
            "root\n",
            " |-- node1: string (nullable = true)\n",
            " |-- node2: string (nullable = true)\n",
            " |-- weight: long (nullable = false)\n",
            "\n",
            "+--------------------+------------------+------+\n",
            "|               node1|             node2|weight|\n",
            "+--------------------+------------------+------+\n",
            "|    'Wiriyakijja P.'|       'Kerr A.R.'|     2|\n",
            "|      'Aliyu A.A.A.'|       'Shinjo J.'|     2|\n",
            "|         'Shinjo J.'|'Lohwongwatana B.'|     2|\n",
            "|    'Niklander S.E.'|     'Jensen S.B.'|     2|\n",
            "|        'Bhave V.M.'|   'Kimberly W.T.'|     2|\n",
            "|'Seresirikachorn K.'|     'Alvarado R.'|     2|\n",
            "|           'Zeng Z.'|          'Qin J.'|     2|\n",
            "|          'Voiry D.'|         'Wang Q.'|     2|\n",
            "|  'Kijpatanasilp I.'|     'Worobo R.W.'|     2|\n",
            "|          'Jiang J.'|           'Wu R.'|     2|\n",
            "|          'Villa A.'|        'Delli K.'|     2|\n",
            "| 'Reubroycharoen P.'|      'Tsubaki N.'|     2|\n",
            "|    'Piumsomboon P.'|   'Otarawanna S.'|     2|\n",
            "|      'Aliyu A.A.A.'|       'Reed R.C.'|     2|\n",
            "|  'Arunjaroensuk S.'|    'Kaboosaya B.'|     2|\n",
            "|       'Kantavat P.'|      'Hayashi Y.'|     2|\n",
            "|           'Yang C.'|          'Qin J.'|     3|\n",
            "|         'Kalish L.'|     'Harvey R.J.'|     2|\n",
            "|      'Petchkaew P.'|'Keawsawasvong S.'|     2|\n",
            "|          'Jiang J.'|       'Chen J.S.'|     2|\n",
            "+--------------------+------------------+------+\n",
            "only showing top 20 rows\n",
            "\n"
          ]
        }
      ],
      "source": [
        "authors_schema = ArrayType(StringType())\n",
        "\n",
        "# df_with_authors_array = cleaned_df.withColumn(\"authors\", from_json(col(\"authors\"), authors_schema))\n",
        "df_with_authors_array = cleaned_df.withColumn(\"authors\", expr(\"transform(authors, x -> trim(x))\"))\n",
        "filtered_rows = df_with_authors_array.filter(expr(\"size(authors) > 1\"))\n",
        "\n",
        "edges = filtered_rows.rdd.flatMap(\n",
        "    lambda row: [Row(node1=a, node2=b) for a, b in combinations(row[\"authors\"], 2)]\n",
        ")\n",
        "\n",
        "edges_df = spark.createDataFrame(edges)\n",
        "edges_weighted = edges_df.groupBy(\"node1\", \"node2\").count().withColumnRenamed(\"count\", \"weight\")\n",
        "\n",
        "filtered_edges = edges_weighted.filter(col(\"weight\") > 1)\n",
        "filtered_edges.printSchema()\n",
        "filtered_edges.show()"
      ]
    },
    {
      "cell_type": "code",
      "execution_count": 61,
      "metadata": {
        "id": "LgLrCpFatKpl",
        "colab": {
          "base_uri": "https://localhost:8080/"
        },
        "outputId": "c8641df7-7201-43c9-d619-b81ea0de7a7d"
      },
      "outputs": [
        {
          "output_type": "execute_result",
          "data": {
            "text/plain": [
              "379"
            ]
          },
          "metadata": {},
          "execution_count": 61
        }
      ],
      "source": [
        "filtered_edges_without_weight = filtered_edges.drop(\"weight\")\n",
        "filtered_edges_without_weight.count()"
      ]
    },
    {
      "cell_type": "code",
      "source": [
        "filtered_edges_without_weight.toPandas().to_csv('filtered_authorship_2023.csv', index=False)"
      ],
      "metadata": {
        "id": "DhyV8vYxRwKX"
      },
      "execution_count": 62,
      "outputs": []
    }
  ],
  "metadata": {
    "colab": {
      "provenance": []
    },
    "kernelspec": {
      "display_name": "base",
      "language": "python",
      "name": "python3"
    },
    "language_info": {
      "codemirror_mode": {
        "name": "ipython",
        "version": 3
      },
      "file_extension": ".py",
      "mimetype": "text/x-python",
      "name": "python",
      "nbconvert_exporter": "python",
      "pygments_lexer": "ipython3",
      "version": "3.12.7"
    }
  },
  "nbformat": 4,
  "nbformat_minor": 0
}