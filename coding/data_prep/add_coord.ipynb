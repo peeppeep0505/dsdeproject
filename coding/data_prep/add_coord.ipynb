{
  "nbformat": 4,
  "nbformat_minor": 0,
  "metadata": {
    "colab": {
      "provenance": []
    },
    "kernelspec": {
      "name": "python3",
      "display_name": "Python 3"
    },
    "language_info": {
      "name": "python"
    }
  },
  "cells": [
    {
      "cell_type": "code",
      "source": [
        "try:\n",
        "  import google.colab\n",
        "  IN_COLAB = True\n",
        "except:\n",
        "  IN_COLAB = False"
      ],
      "metadata": {
        "id": "k82vb55fbmi8"
      },
      "execution_count": 2,
      "outputs": []
    },
    {
      "cell_type": "code",
      "source": [
        "if IN_COLAB:\n",
        "    !apt-get install openjdk-8-jdk-headless -qq > /dev/null\n",
        "    !wget -q https://archive.apache.org/dist/spark/spark-3.3.2/spark-3.3.2-bin-hadoop3.tgz\n",
        "    !tar xf spark-3.3.2-bin-hadoop3.tgz\n",
        "    !mv spark-3.3.2-bin-hadoop3 spark\n",
        "    !pip install -q findspark\n",
        "    import os\n",
        "    os.environ[\"JAVA_HOME\"] = \"/usr/lib/jvm/java-8-openjdk-amd64\"\n",
        "    os.environ[\"SPARK_HOME\"] = \"/content/spark\""
      ],
      "metadata": {
        "id": "5mLoCnYBbnYk"
      },
      "execution_count": 3,
      "outputs": []
    },
    {
      "cell_type": "code",
      "source": [
        "import findspark\n",
        "findspark.init()"
      ],
      "metadata": {
        "id": "KRfVU2QLbn1Q"
      },
      "execution_count": 4,
      "outputs": []
    },
    {
      "cell_type": "code",
      "source": [
        "spark_url = 'local'"
      ],
      "metadata": {
        "id": "uW7eHhcHbvHf"
      },
      "execution_count": 5,
      "outputs": []
    },
    {
      "cell_type": "code",
      "source": [
        "from pyspark.sql import SparkSession\n",
        "from pyspark.sql.functions import col"
      ],
      "metadata": {
        "id": "3pgFBj8DbvYI"
      },
      "execution_count": 6,
      "outputs": []
    },
    {
      "cell_type": "code",
      "source": [
        "spark = SparkSession.builder\\\n",
        "        .master(spark_url)\\\n",
        "        .appName('Spark SQL')\\\n",
        "        .getOrCreate()"
      ],
      "metadata": {
        "id": "DjCjjikZcDbL"
      },
      "execution_count": 7,
      "outputs": []
    },
    {
      "cell_type": "code",
      "source": [
        "!pip install geopy"
      ],
      "metadata": {
        "colab": {
          "base_uri": "https://localhost:8080/"
        },
        "id": "witbYIgocJo4",
        "outputId": "6f8c465c-29a9-47db-f8a5-64575f1ec0a8"
      },
      "execution_count": 1,
      "outputs": [
        {
          "output_type": "stream",
          "name": "stdout",
          "text": [
            "Requirement already satisfied: geopy in /usr/local/lib/python3.10/dist-packages (1.22.0)\n",
            "Requirement already satisfied: geographiclib<2,>=1.49 in /usr/local/lib/python3.10/dist-packages (from geopy) (1.52)\n"
          ]
        }
      ]
    },
    {
      "cell_type": "code",
      "source": [
        "from pyspark.sql.functions import col, sum as spark_sum, udf\n",
        "from pyspark.sql.types import StructType, StructField, DoubleType\n",
        "from geopy.geocoders import Nominatim\n",
        "import ssl\n",
        "\n",
        "# Disable SSL certificate verification (Not recommended for production use)\n",
        "ssl._create_default_https_context = ssl._create_unverified_context\n",
        "\n",
        "# Initialize geolocator\n",
        "geolocator = Nominatim(user_agent=\"city_geocoder\")\n",
        "\n",
        "path = '2018'\n",
        "\n",
        "# Read CSV data into a Spark DataFrame\n",
        "df = spark.read.csv(f'{path}_city.csv', header=True, inferSchema=True)\n",
        "\n",
        "# Group by 'city' and calculate the sum of 'author_count'\n",
        "sorted_df = df.groupBy(\"city\").agg(spark_sum(\"author_count\").alias(\"sum\")).orderBy(col(\"sum\").desc())\n",
        "\n",
        "# Define a UDF for geocoding\n",
        "def geocode_city(city):\n",
        "    try:\n",
        "        location = geolocator.geocode(city, timeout=10000)\n",
        "        if location:\n",
        "            return {\"latitude\": location.latitude, \"longitude\": location.longitude}\n",
        "        else:\n",
        "            return {\"latitude\": None, \"longitude\": None}\n",
        "    except Exception as e:\n",
        "        # Log the error message and return None for both latitude and longitude\n",
        "        print(f\"Geocoding error for city {city}: {e}\")\n",
        "        return {\"latitude\": None, \"longitude\": None}\n",
        "\n",
        "# Register the UDF\n",
        "geocode_udf = udf(\n",
        "    geocode_city,\n",
        "    StructType([\n",
        "        StructField(\"latitude\", DoubleType(), True),\n",
        "        StructField(\"longitude\", DoubleType(), True)\n",
        "    ])\n",
        ")\n",
        "\n",
        "# Apply the geocoding UDF to each city in the DataFrame\n",
        "geocoded_df = sorted_df.withColumn(\"coordinates\", geocode_udf(col(\"city\")))\n",
        "\n",
        "# Extract 'latitude' and 'longitude' from the 'coordinates' column\n",
        "result_df = geocoded_df \\\n",
        "    .withColumn(\"latitude\", col(\"coordinates.latitude\")) \\\n",
        "    .withColumn(\"longitude\", col(\"coordinates.longitude\")) \\\n",
        "    .drop(\"coordinates\")\n",
        "\n",
        "# Show the resulting DataFrame\n",
        "result_df.show(truncate=False)\n",
        "\n",
        "# Save the resulting DataFrame to a CSV file\n",
        "result_df.write.csv(f'City/{path}_city_sum_coordinate.csv', header=True, mode=\"overwrite\")\n"
      ],
      "metadata": {
        "colab": {
          "base_uri": "https://localhost:8080/"
        },
        "id": "r3KmCzH8cEmI",
        "outputId": "736ab796-b2fc-416d-8d95-dd12e62ed141"
      },
      "execution_count": 9,
      "outputs": [
        {
          "output_type": "stream",
          "name": "stdout",
          "text": [
            "+-------+-----+----------+-----------+\n",
            "|city   |sum  |latitude  |longitude  |\n",
            "+-------+-----+----------+-----------+\n",
            "|Hamburg|15319|53.550341 |10.000654  |\n",
            "|Geneva |15303|46.2017559|6.1466014  |\n",
            "|Batavia|11466|-6.175247 |106.8270488|\n",
            "|Moscow |8584 |55.625578 |37.6063916 |\n",
            "|Bangkok|8466 |13.7524938|100.4935089|\n",
            "|Zurich |8035 |47.3744489|8.5410422  |\n",
            "|Aachen |6935 |50.776351 |6.083862   |\n",
            "|London |6691 |51.5074456|-0.1277653 |\n",
            "|Bologna|6288 |44.4938203|11.3426327 |\n",
            "|Bari   |6195 |41.1257843|16.8620293 |\n",
            "+-------+-----+----------+-----------+\n",
            "\n"
          ]
        }
      ]
    }
  ]
}